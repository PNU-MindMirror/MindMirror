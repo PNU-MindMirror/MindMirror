{
 "cells": [
  {
   "cell_type": "code",
   "execution_count": 18,
   "id": "da80d122",
   "metadata": {
    "colab": {
     "base_uri": "https://localhost:8080/"
    },
    "executionInfo": {
     "elapsed": 13763,
     "status": "ok",
     "timestamp": 1633440640768,
     "user": {
      "displayName": "잠온다",
      "photoUrl": "https://lh3.googleusercontent.com/a-/AOh14GgsldayAwnTpdne5aB_pssT2_VFbbBVM1GFqKqp0A=s64",
      "userId": "04211171566214141965"
     },
     "user_tz": -540
    },
    "id": "da80d122",
    "outputId": "d8d40799-f310-423a-9865-68de3278cef3"
   },
   "outputs": [
    {
     "name": "stdout",
     "output_type": "stream",
     "text": [
      "Requirement already satisfied: mxnet in /usr/local/lib/python3.7/dist-packages (1.8.0.post0)\n",
      "Requirement already satisfied: graphviz<0.9.0,>=0.8.1 in /usr/local/lib/python3.7/dist-packages (from mxnet) (0.8.4)\n",
      "Requirement already satisfied: requests<3,>=2.20.0 in /usr/local/lib/python3.7/dist-packages (from mxnet) (2.23.0)\n",
      "Requirement already satisfied: numpy<2.0.0,>1.16.0 in /usr/local/lib/python3.7/dist-packages (from mxnet) (1.19.5)\n",
      "Requirement already satisfied: urllib3!=1.25.0,!=1.25.1,<1.26,>=1.21.1 in /usr/local/lib/python3.7/dist-packages (from requests<3,>=2.20.0->mxnet) (1.24.3)\n",
      "Requirement already satisfied: certifi>=2017.4.17 in /usr/local/lib/python3.7/dist-packages (from requests<3,>=2.20.0->mxnet) (2021.5.30)\n",
      "Requirement already satisfied: chardet<4,>=3.0.2 in /usr/local/lib/python3.7/dist-packages (from requests<3,>=2.20.0->mxnet) (3.0.4)\n",
      "Requirement already satisfied: idna<3,>=2.5 in /usr/local/lib/python3.7/dist-packages (from requests<3,>=2.20.0->mxnet) (2.10)\n",
      "Requirement already satisfied: gluonnlp in /usr/local/lib/python3.7/dist-packages (0.10.0)\n",
      "Requirement already satisfied: pandas in /usr/local/lib/python3.7/dist-packages (1.1.5)\n",
      "Requirement already satisfied: tqdm in /usr/local/lib/python3.7/dist-packages (4.62.3)\n",
      "Requirement already satisfied: cython in /usr/local/lib/python3.7/dist-packages (from gluonnlp) (0.29.24)\n",
      "Requirement already satisfied: numpy>=1.16.0 in /usr/local/lib/python3.7/dist-packages (from gluonnlp) (1.19.5)\n",
      "Requirement already satisfied: packaging in /usr/local/lib/python3.7/dist-packages (from gluonnlp) (21.0)\n",
      "Requirement already satisfied: python-dateutil>=2.7.3 in /usr/local/lib/python3.7/dist-packages (from pandas) (2.8.2)\n",
      "Requirement already satisfied: pytz>=2017.2 in /usr/local/lib/python3.7/dist-packages (from pandas) (2018.9)\n",
      "Requirement already satisfied: six>=1.5 in /usr/local/lib/python3.7/dist-packages (from python-dateutil>=2.7.3->pandas) (1.15.0)\n",
      "Requirement already satisfied: pyparsing>=2.0.2 in /usr/local/lib/python3.7/dist-packages (from packaging->gluonnlp) (2.4.7)\n",
      "Requirement already satisfied: sentencepiece in /usr/local/lib/python3.7/dist-packages (0.1.96)\n",
      "Requirement already satisfied: transformers in /usr/local/lib/python3.7/dist-packages (4.11.2)\n",
      "Requirement already satisfied: requests in /usr/local/lib/python3.7/dist-packages (from transformers) (2.23.0)\n",
      "Requirement already satisfied: importlib-metadata in /usr/local/lib/python3.7/dist-packages (from transformers) (4.8.1)\n",
      "Requirement already satisfied: tokenizers<0.11,>=0.10.1 in /usr/local/lib/python3.7/dist-packages (from transformers) (0.10.3)\n",
      "Requirement already satisfied: numpy>=1.17 in /usr/local/lib/python3.7/dist-packages (from transformers) (1.19.5)\n",
      "Requirement already satisfied: tqdm>=4.27 in /usr/local/lib/python3.7/dist-packages (from transformers) (4.62.3)\n",
      "Requirement already satisfied: pyyaml>=5.1 in /usr/local/lib/python3.7/dist-packages (from transformers) (5.4.1)\n",
      "Requirement already satisfied: sacremoses in /usr/local/lib/python3.7/dist-packages (from transformers) (0.0.46)\n",
      "Requirement already satisfied: filelock in /usr/local/lib/python3.7/dist-packages (from transformers) (3.0.12)\n",
      "Requirement already satisfied: regex!=2019.12.17 in /usr/local/lib/python3.7/dist-packages (from transformers) (2019.12.20)\n",
      "Requirement already satisfied: huggingface-hub>=0.0.17 in /usr/local/lib/python3.7/dist-packages (from transformers) (0.0.18)\n",
      "Requirement already satisfied: packaging>=20.0 in /usr/local/lib/python3.7/dist-packages (from transformers) (21.0)\n",
      "Requirement already satisfied: typing-extensions in /usr/local/lib/python3.7/dist-packages (from huggingface-hub>=0.0.17->transformers) (3.7.4.3)\n",
      "Requirement already satisfied: ruamel.yaml==0.17.16 in /usr/local/lib/python3.7/dist-packages (from huggingface-hub>=0.0.17->transformers) (0.17.16)\n",
      "Requirement already satisfied: ruamel.yaml.clib>=0.1.2 in /usr/local/lib/python3.7/dist-packages (from ruamel.yaml==0.17.16->huggingface-hub>=0.0.17->transformers) (0.2.6)\n",
      "Requirement already satisfied: pyparsing>=2.0.2 in /usr/local/lib/python3.7/dist-packages (from packaging>=20.0->transformers) (2.4.7)\n",
      "Requirement already satisfied: zipp>=0.5 in /usr/local/lib/python3.7/dist-packages (from importlib-metadata->transformers) (3.5.0)\n",
      "Requirement already satisfied: chardet<4,>=3.0.2 in /usr/local/lib/python3.7/dist-packages (from requests->transformers) (3.0.4)\n",
      "Requirement already satisfied: certifi>=2017.4.17 in /usr/local/lib/python3.7/dist-packages (from requests->transformers) (2021.5.30)\n",
      "Requirement already satisfied: urllib3!=1.25.0,!=1.25.1,<1.26,>=1.21.1 in /usr/local/lib/python3.7/dist-packages (from requests->transformers) (1.24.3)\n",
      "Requirement already satisfied: idna<3,>=2.5 in /usr/local/lib/python3.7/dist-packages (from requests->transformers) (2.10)\n",
      "Requirement already satisfied: click in /usr/local/lib/python3.7/dist-packages (from sacremoses->transformers) (7.1.2)\n",
      "Requirement already satisfied: six in /usr/local/lib/python3.7/dist-packages (from sacremoses->transformers) (1.15.0)\n",
      "Requirement already satisfied: joblib in /usr/local/lib/python3.7/dist-packages (from sacremoses->transformers) (1.0.1)\n",
      "Requirement already satisfied: torch in /usr/local/lib/python3.7/dist-packages (1.9.0+cu102)\n",
      "Requirement already satisfied: typing-extensions in /usr/local/lib/python3.7/dist-packages (from torch) (3.7.4.3)\n"
     ]
    }
   ],
   "source": [
    "!pip install mxnet\n",
    "!pip install gluonnlp pandas tqdm\n",
    "!pip install sentencepiece\n",
    "!pip install transformers\n",
    "!pip install torch"
   ]
  },
  {
   "cell_type": "code",
   "execution_count": 19,
   "id": "l6GEnzbvo5tB",
   "metadata": {
    "colab": {
     "base_uri": "https://localhost:8080/"
    },
    "executionInfo": {
     "elapsed": 3300,
     "status": "ok",
     "timestamp": 1633440644056,
     "user": {
      "displayName": "잠온다",
      "photoUrl": "https://lh3.googleusercontent.com/a-/AOh14GgsldayAwnTpdne5aB_pssT2_VFbbBVM1GFqKqp0A=s64",
      "userId": "04211171566214141965"
     },
     "user_tz": -540
    },
    "id": "l6GEnzbvo5tB",
    "outputId": "a376644f-0e05-4bb1-c5b6-b9bd18311522"
   },
   "outputs": [
    {
     "name": "stdout",
     "output_type": "stream",
     "text": [
      "Collecting git+https://****@github.com/SKTBrain/KoBERT.git@master\n",
      "  Cloning https://****@github.com/SKTBrain/KoBERT.git (to revision master) to /tmp/pip-req-build-0t165v3c\n",
      "  Running command git clone -q 'https://****@github.com/SKTBrain/KoBERT.git' /tmp/pip-req-build-0t165v3c\n"
     ]
    }
   ],
   "source": [
    "!pip install git+https://git@github.com/SKTBrain/KoBERT.git@master"
   ]
  },
  {
   "cell_type": "code",
   "execution_count": 20,
   "id": "AO9fKEPshrJ5",
   "metadata": {
    "colab": {
     "base_uri": "https://localhost:8080/"
    },
    "executionInfo": {
     "elapsed": 2829,
     "status": "ok",
     "timestamp": 1633440646873,
     "user": {
      "displayName": "잠온다",
      "photoUrl": "https://lh3.googleusercontent.com/a-/AOh14GgsldayAwnTpdne5aB_pssT2_VFbbBVM1GFqKqp0A=s64",
      "userId": "04211171566214141965"
     },
     "user_tz": -540
    },
    "id": "AO9fKEPshrJ5",
    "outputId": "74bb1e47-459a-4b6c-da73-2df1bdd9540b"
   },
   "outputs": [
    {
     "name": "stdout",
     "output_type": "stream",
     "text": [
      "Requirement already satisfied: kss in /usr/local/lib/python3.7/dist-packages (3.2.0)\n",
      "Requirement already satisfied: emoji in /usr/local/lib/python3.7/dist-packages (from kss) (1.5.0)\n"
     ]
    }
   ],
   "source": [
    "!pip install kss"
   ]
  },
  {
   "cell_type": "code",
   "execution_count": 21,
   "id": "3994ebc7",
   "metadata": {
    "executionInfo": {
     "elapsed": 8,
     "status": "ok",
     "timestamp": 1633440646874,
     "user": {
      "displayName": "잠온다",
      "photoUrl": "https://lh3.googleusercontent.com/a-/AOh14GgsldayAwnTpdne5aB_pssT2_VFbbBVM1GFqKqp0A=s64",
      "userId": "04211171566214141965"
     },
     "user_tz": -540
    },
    "id": "3994ebc7"
   },
   "outputs": [],
   "source": [
    "import torch\n",
    "from torch import nn\n",
    "import torch.nn.functional as F\n",
    "import torch.optim as optim\n",
    "from torch.utils.data import Dataset, DataLoader\n",
    "import gluonnlp as nlp\n",
    "import numpy as np\n",
    "from tqdm import tqdm, notebook\n",
    "\n",
    "import math\n",
    "#kobert\n",
    "from kobert.utils import get_tokenizer\n",
    "from kobert.pytorch_kobert import get_pytorch_kobert_model\n",
    "\n",
    "#transformers\n",
    "from transformers import AdamW\n",
    "from transformers.optimization import get_cosine_schedule_with_warmup\n",
    "\n",
    "#train & test 데이터로 나누기\n",
    "from sklearn.model_selection import train_test_split\n",
    "\n",
    "import pandas as pd\n",
    "\n",
    "#json 관련 라이브러리\n",
    "import json\n",
    "from collections import OrderedDict\n",
    "\n",
    "#문장 분리기\n",
    "from kss import split_sentences\n"
   ]
  },
  {
   "cell_type": "code",
   "execution_count": 22,
   "id": "7WD-vsVoo-Iq",
   "metadata": {
    "colab": {
     "base_uri": "https://localhost:8080/"
    },
    "executionInfo": {
     "elapsed": 22767,
     "status": "ok",
     "timestamp": 1633440669634,
     "user": {
      "displayName": "잠온다",
      "photoUrl": "https://lh3.googleusercontent.com/a-/AOh14GgsldayAwnTpdne5aB_pssT2_VFbbBVM1GFqKqp0A=s64",
      "userId": "04211171566214141965"
     },
     "user_tz": -540
    },
    "id": "7WD-vsVoo-Iq",
    "outputId": "9d9c4998-804e-412c-d41f-a80a5c8a27ff"
   },
   "outputs": [
    {
     "name": "stdout",
     "output_type": "stream",
     "text": [
      "/content/drive\n",
      "Mounted at /content/drive\n",
      "MY_GOOGLE_DRIVE_PATH:  /content/drive/My Drive/Colab Notebooks\n",
      "/content/drive/My Drive/Colab Notebooks\n"
     ]
    }
   ],
   "source": [
    "#구글 드라이브를 쓰자\n",
    "from google.colab import drive\n",
    "#루트를 정해준다.\n",
    "ROOT = \"/content/drive\"\n",
    "print(ROOT)\n",
    "\n",
    "drive.mount(ROOT) #we mount the google drive at /content/drive\n",
    "\n",
    "#import join used to join ROOT path and MY_GOOGLE_DRIVE_PATH\n",
    "from os.path import join\n",
    "\n",
    "\n",
    "MY_GOOGLE_DRIVE_PATH = '/content/drive/My Drive/Colab Notebooks'\n",
    "\n",
    "print(\"MY_GOOGLE_DRIVE_PATH: \", MY_GOOGLE_DRIVE_PATH)\n",
    "\n",
    "%cd \"{MY_GOOGLE_DRIVE_PATH}\""
   ]
  },
  {
   "cell_type": "code",
   "execution_count": 23,
   "id": "5fa67c6e",
   "metadata": {
    "executionInfo": {
     "elapsed": 6,
     "status": "ok",
     "timestamp": 1633440669634,
     "user": {
      "displayName": "잠온다",
      "photoUrl": "https://lh3.googleusercontent.com/a-/AOh14GgsldayAwnTpdne5aB_pssT2_VFbbBVM1GFqKqp0A=s64",
      "userId": "04211171566214141965"
     },
     "user_tz": -540
    },
    "id": "5fa67c6e"
   },
   "outputs": [],
   "source": [
    "device = torch.device(\"cuda:0\")"
   ]
  },
  {
   "cell_type": "code",
   "execution_count": 24,
   "id": "525e01d3",
   "metadata": {
    "colab": {
     "base_uri": "https://localhost:8080/"
    },
    "executionInfo": {
     "elapsed": 53222,
     "status": "ok",
     "timestamp": 1633440722851,
     "user": {
      "displayName": "잠온다",
      "photoUrl": "https://lh3.googleusercontent.com/a-/AOh14GgsldayAwnTpdne5aB_pssT2_VFbbBVM1GFqKqp0A=s64",
      "userId": "04211171566214141965"
     },
     "user_tz": -540
    },
    "id": "525e01d3",
    "outputId": "3acd05f8-039a-4eef-f367-174ae32a5e59"
   },
   "outputs": [
    {
     "name": "stdout",
     "output_type": "stream",
     "text": [
      "[██████████████████████████████████████████████████]\n",
      "[██████████████████████████████████████████████████]\n"
     ]
    }
   ],
   "source": [
    "#BERT 모델, Vocabulary 불러오기\n",
    "bertmodel, vocab = get_pytorch_kobert_model()"
   ]
  },
  {
   "cell_type": "code",
   "execution_count": 25,
   "id": "O6jq_X_-mZKY",
   "metadata": {
    "executionInfo": {
     "elapsed": 16,
     "status": "ok",
     "timestamp": 1633440722852,
     "user": {
      "displayName": "잠온다",
      "photoUrl": "https://lh3.googleusercontent.com/a-/AOh14GgsldayAwnTpdne5aB_pssT2_VFbbBVM1GFqKqp0A=s64",
      "userId": "04211171566214141965"
     },
     "user_tz": -540
    },
    "id": "O6jq_X_-mZKY"
   },
   "outputs": [],
   "source": [
    "class BERTClassifier(nn.Module):\n",
    "    def __init__(self,\n",
    "                 bert,\n",
    "                 hidden_size = 768,\n",
    "                 num_classes=9,   ##클래스 수 조정##\n",
    "                 dr_rate=None,\n",
    "                 params=None):\n",
    "        super(BERTClassifier, self).__init__()\n",
    "        self.bert = bert\n",
    "        self.dr_rate = dr_rate\n",
    "                 \n",
    "        self.classifier = nn.Linear(hidden_size , num_classes)\n",
    "        if dr_rate:\n",
    "            self.dropout = nn.Dropout(p=dr_rate)\n",
    "    \n",
    "    def gen_attention_mask(self, token_ids, valid_length):\n",
    "        attention_mask = torch.zeros_like(token_ids)\n",
    "        for i, v in enumerate(valid_length):\n",
    "            attention_mask[i][:v] = 1\n",
    "        return attention_mask.float()\n",
    "\n",
    "    def forward(self, token_ids, valid_length, segment_ids):\n",
    "        attention_mask = self.gen_attention_mask(token_ids, valid_length)\n",
    "        \n",
    "        _, pooler = self.bert(input_ids = token_ids, token_type_ids = segment_ids.long(), attention_mask = attention_mask.float().to(token_ids.device), return_dict=False)\n",
    "        if self.dr_rate:\n",
    "            out = self.dropout(pooler)\n",
    "        return self.classifier(out)"
   ]
  },
  {
   "cell_type": "code",
   "execution_count": 26,
   "id": "P5fJLaxmm1PZ",
   "metadata": {
    "executionInfo": {
     "elapsed": 15,
     "status": "ok",
     "timestamp": 1633440722852,
     "user": {
      "displayName": "잠온다",
      "photoUrl": "https://lh3.googleusercontent.com/a-/AOh14GgsldayAwnTpdne5aB_pssT2_VFbbBVM1GFqKqp0A=s64",
      "userId": "04211171566214141965"
     },
     "user_tz": -540
    },
    "id": "P5fJLaxmm1PZ"
   },
   "outputs": [],
   "source": [
    "max_len = 200\n",
    "batch_size = 32"
   ]
  },
  {
   "cell_type": "code",
   "execution_count": 27,
   "id": "QIG2M9c4l-7i",
   "metadata": {
    "executionInfo": {
     "elapsed": 16,
     "status": "ok",
     "timestamp": 1633440722853,
     "user": {
      "displayName": "잠온다",
      "photoUrl": "https://lh3.googleusercontent.com/a-/AOh14GgsldayAwnTpdne5aB_pssT2_VFbbBVM1GFqKqp0A=s64",
      "userId": "04211171566214141965"
     },
     "user_tz": -540
    },
    "id": "QIG2M9c4l-7i"
   },
   "outputs": [],
   "source": [
    "class BERTDataset(Dataset):\n",
    "    def __init__(self, dataset, sent_idx, label_idx, bert_tokenizer, max_len,\n",
    "                 pad, pair):\n",
    "        transform = nlp.data.BERTSentenceTransform(bert_tokenizer, max_seq_length=max_len, pad=pad, pair=pair)\n",
    "\n",
    "        self.sentences = [transform([i[sent_idx]]) for i in dataset]\n",
    "        self.labels = [np.int32(i[label_idx]) for i in dataset]\n",
    "\n",
    "    def __getitem__(self, i):\n",
    "        return (self.sentences[i] + (self.labels[i], ))\n",
    "\n",
    "    def __len__(self):\n",
    "        return (len(self.labels))"
   ]
  },
  {
   "cell_type": "code",
   "execution_count": 28,
   "id": "Y6gJo6eRpvcF",
   "metadata": {
    "executionInfo": {
     "elapsed": 17204,
     "status": "ok",
     "timestamp": 1633440740042,
     "user": {
      "displayName": "잠온다",
      "photoUrl": "https://lh3.googleusercontent.com/a-/AOh14GgsldayAwnTpdne5aB_pssT2_VFbbBVM1GFqKqp0A=s64",
      "userId": "04211171566214141965"
     },
     "user_tz": -540
    },
    "id": "Y6gJo6eRpvcF"
   },
   "outputs": [],
   "source": [
    "situation_model = torch.load(\"situation7.pth\")\n",
    "emotion_model = torch.load(\"model4.pth\")"
   ]
  },
  {
   "cell_type": "code",
   "execution_count": 42,
   "id": "b1af9686",
   "metadata": {
    "colab": {
     "base_uri": "https://localhost:8080/"
    },
    "executionInfo": {
     "elapsed": 352,
     "status": "ok",
     "timestamp": 1633441048705,
     "user": {
      "displayName": "잠온다",
      "photoUrl": "https://lh3.googleusercontent.com/a-/AOh14GgsldayAwnTpdne5aB_pssT2_VFbbBVM1GFqKqp0A=s64",
      "userId": "04211171566214141965"
     },
     "user_tz": -540
    },
    "id": "b1af9686",
    "outputId": "a4060d60-36d1-43d0-b651-c0b670b34318"
   },
   "outputs": [
    {
     "name": "stdout",
     "output_type": "stream",
     "text": [
      "using cached model\n"
     ]
    }
   ],
   "source": [
    "#토큰화\n",
    "tokenizer = get_tokenizer()\n",
    "tok = nlp.data.BERTSPTokenizer(tokenizer, vocab, lower=False)\n",
    "\n",
    "def predict_emotion(predict_sentence):\n",
    "\n",
    "    data = [predict_sentence, '0']\n",
    "    dataset_another = [data]\n",
    "\n",
    "    another_test = BERTDataset(dataset_another, 0, 1, tok, max_len, True, False)\n",
    "    test_dataloader = torch.utils.data.DataLoader(another_test, batch_size=batch_size)\n",
    "    \n",
    "    emotion_model.eval()\n",
    "\n",
    "    for batch_id, (token_ids, valid_length, segment_ids, label) in enumerate(test_dataloader):\n",
    "        token_ids = token_ids.long().to(device)\n",
    "        segment_ids = segment_ids.long().to(device)\n",
    "\n",
    "        valid_length= valid_length\n",
    "        label = label.long().to(device)\n",
    "\n",
    "        out = emotion_model(token_ids, valid_length, segment_ids)\n",
    "\n",
    "\n",
    "        test_eval=[]\n",
    "        for i in out:\n",
    "            logits=i\n",
    "            logits = logits.detach().cpu().numpy()\n",
    "\n",
    "            if np.argmax(logits) == 0:\n",
    "                test_eval.append(\"분노\")\n",
    "            elif np.argmax(logits) == 1:\n",
    "                test_eval.append(\"슬픔\")\n",
    "            elif np.argmax(logits) == 2:\n",
    "                test_eval.append(\"불안\")\n",
    "            elif np.argmax(logits) == 3:\n",
    "                test_eval.append(\"상처\")\n",
    "            elif np.argmax(logits) == 4:\n",
    "                test_eval.append(\"당황\")\n",
    "            elif np.argmax(logits) == 5:\n",
    "                test_eval.append(\"기쁨\")\n",
    "            elif np.argmax(logits) == 6:\n",
    "                test_eval.append(\"중립\")\n",
    "\n",
    "        print(\">> 입력하신 내용에서 \" + test_eval[0] + \" 느껴집니다.\")\n",
    "        return test_eval[0]\n",
    "\n",
    "\n",
    "def predict_situation(predict_sentence):\n",
    "\n",
    "    data = [predict_sentence, '0']\n",
    "    dataset_another = [data]\n",
    "\n",
    "    another_test = BERTDataset(dataset_another, 0, 1, tok, max_len, True, False)\n",
    "    test_dataloader = torch.utils.data.DataLoader(another_test, batch_size=batch_size)\n",
    "    \n",
    "    situation_model.eval()\n",
    "\n",
    "    for batch_id, (token_ids, valid_length, segment_ids, label) in enumerate(test_dataloader):\n",
    "        token_ids = token_ids.long().to(device)\n",
    "        segment_ids = segment_ids.long().to(device)\n",
    "\n",
    "        valid_length= valid_length\n",
    "        label = label.long().to(device)\n",
    "\n",
    "        out = situation_model(token_ids, valid_length, segment_ids)\n",
    "\n",
    "\n",
    "        test_eval=[]\n",
    "        for i in out:\n",
    "            logits=i\n",
    "            logits = logits.detach().cpu().numpy()\n",
    "\n",
    "            if np.argmax(logits) == 0:\n",
    "                test_eval.append(\"가족관계\")\n",
    "            elif np.argmax(logits) == 1:\n",
    "                test_eval.append(\"학업 및 진로\")\n",
    "            elif np.argmax(logits) == 2:\n",
    "                test_eval.append(\"학교폭력/따돌림\")\n",
    "            elif np.argmax(logits) == 3:\n",
    "                test_eval.append(\"대인관계\")\n",
    "            elif np.argmax(logits) == 4:\n",
    "                test_eval.append(\"직장, 업무 스트레스\")\n",
    "            elif np.argmax(logits) == 5:\n",
    "                test_eval.append(\"연애, 결혼, 출산\")\n",
    "            elif np.argmax(logits) == 6:\n",
    "                test_eval.append(\"진로, 취업, 직장\")\n",
    "            elif np.argmax(logits) == 7:\n",
    "                test_eval.append(\"재정, 은퇴, 노후준비\")\n",
    "            elif np.argmax(logits) == 8:\n",
    "                test_eval.append(\"건강, 죽음\")\n",
    "\n",
    "        print(\">> 입력하신 내용에서 \" + test_eval[0] + \" 상황입니다.\")\n",
    "\n",
    "        return test_eval[0]"
   ]
  },
  {
   "cell_type": "code",
   "execution_count": 193,
   "id": "d05d19b1",
   "metadata": {
    "colab": {
     "base_uri": "https://localhost:8080/",
     "height": 446
    },
    "executionInfo": {
     "elapsed": 5149,
     "status": "error",
     "timestamp": 1633443991864,
     "user": {
      "displayName": "잠온다",
      "photoUrl": "https://lh3.googleusercontent.com/a-/AOh14GgsldayAwnTpdne5aB_pssT2_VFbbBVM1GFqKqp0A=s64",
      "userId": "04211171566214141965"
     },
     "user_tz": -540
    },
    "id": "d05d19b1",
    "outputId": "9e62dbd5-03bb-4ae8-ee4b-1fb228793167"
   },
   "outputs": [
    {
     "name": "stdout",
     "output_type": "stream",
     "text": [
      "하고싶은 말을 입력해주세요 : 지난 일주일. 나의 출퇴근 시간과 짬시간들을 채워준 책이었다. 베를린에서 머문 90일간의 경험과 생각을 담아 쓴 일기. 참 유쾌하고 엉뚱 발랄한 책이다. 어쩌면 그리 특별하지 않은 소소한 일상이었을 수도 있는데(하긴 독일에서 체류한다는 것 자체가 특별하긴 하지) 그 속에서 말할 꺼리를 찾아내고 그걸 또 맛깔나게 써내려가는 능력이 대단하다 싶었다. 그런 게 글쟁이들의 일이고 실력이겠지만 여튼… 중요한 건 읽는 내내 혼자 큭큭거리다 빵터지다를 반복할만큼 재미있었다는 것. 남의 일기를 훔쳐보는 듯한 관음증적인 심리에 더해져서일까? 술에 취해 맞춤법도 틀리고 횡설수설 써내려간  써내려갔던 11월 4일의 일기가 기억에 남는다.  그리고 다닐로(11월 11일자 일기)를 비롯해 여타 다른 친구들에게 쓴 마음의(차마 말로는 못하는) 편지들 ㅋㅋㅋ 독일어를 배우던 중 (엉뚱하게도) 스페인어를 배워야겠다는 깨달음을 얻으면서 동시에 영어가 왜 그렇게 중요한지에 대한 이유를 설명하던 12월 3일자 일기에도 큰 공감이 갔다. 이 책을 읽으며 내용도 내용이지만 새로운 글쓰기 기법을 만들어내는 작가의 능력에 대해서도 생각하게 되었다.  일기라는 것을 보여주려는 듯 \"이 글은 ***** 를 하며 쓰고 있다\"처럼 시작하는 것도 현장감(?)을 더해줬고, 그냥 \"그저 내 생각일 뿐이야\"라는 듯 \"***라는 인상을 준다\"라는 말투를 반복해서 쓴 것도 나름 재치있었다. \"이런 내 기분은 ***를 했던 *** 만이 알아줄 것이다\"는 표현도 참 적절했다는 생각이 든다. 스산했을 그곳에서 느꼈을 외로움이 흠씬 느껴지는 듯한 표현^^ ​ 다 읽고 나서 왠지 모를 아쉬움이 남았지만 남의 일기를 두 번 읽는 것은 왠지 스토커가 되는 기분이 들어 같아 그만두기로 했다. 대신 작가분의 블로그에 들어가 \"이웃 추가\" 버튼을 지긋이 눌렀다. 가끔 웃음이 필요하다 싶을 때 들어가 보려고~\n"
     ]
    },
    {
     "ename": "IndexError",
     "evalue": "ignored",
     "output_type": "error",
     "traceback": [
      "\u001b[0;31m---------------------------------------------------------------------------\u001b[0m",
      "\u001b[0;31mIndexError\u001b[0m                                Traceback (most recent call last)",
      "\u001b[0;32m<ipython-input-193-789e9f211786>\u001b[0m in \u001b[0;36m<module>\u001b[0;34m()\u001b[0m\n\u001b[1;32m      4\u001b[0m \u001b[0mtext\u001b[0m \u001b[0;34m=\u001b[0m \u001b[0minput\u001b[0m\u001b[0;34m(\u001b[0m\u001b[0;34m\"하고싶은 말을 입력해주세요 : \"\u001b[0m\u001b[0;34m)\u001b[0m\u001b[0;34m\u001b[0m\u001b[0;34m\u001b[0m\u001b[0m\n\u001b[1;32m      5\u001b[0m \u001b[0;34m\u001b[0m\u001b[0m\n\u001b[0;32m----> 6\u001b[0;31m \u001b[0msetences\u001b[0m\u001b[0;34m=\u001b[0m \u001b[0msplit_sentences\u001b[0m\u001b[0;34m(\u001b[0m\u001b[0mtext\u001b[0m\u001b[0;34m)\u001b[0m\u001b[0;34m\u001b[0m\u001b[0;34m\u001b[0m\u001b[0m\n\u001b[0m\u001b[1;32m      7\u001b[0m \u001b[0;34m\u001b[0m\u001b[0m\n\u001b[1;32m      8\u001b[0m \u001b[0mprint\u001b[0m\u001b[0;34m(\u001b[0m\u001b[0msetences\u001b[0m\u001b[0;34m,\u001b[0m \u001b[0;34m'\\n'\u001b[0m\u001b[0;34m)\u001b[0m\u001b[0;34m\u001b[0m\u001b[0;34m\u001b[0m\u001b[0m\n",
      "\u001b[0;32m/usr/local/lib/python3.7/dist-packages/kss/kss.py\u001b[0m in \u001b[0;36msplit_sentences\u001b[0;34m(text, use_heuristic, use_quotes_brackets_processing, max_recover_step, max_recover_length, backend, num_workers, disable_gc)\u001b[0m\n\u001b[1;32m    156\u001b[0m \u001b[0;34m\u001b[0m\u001b[0m\n\u001b[1;32m    157\u001b[0m     \u001b[0;32mif\u001b[0m \u001b[0misinstance\u001b[0m\u001b[0;34m(\u001b[0m\u001b[0mtext\u001b[0m\u001b[0;34m,\u001b[0m \u001b[0mstr\u001b[0m\u001b[0;34m)\u001b[0m\u001b[0;34m:\u001b[0m\u001b[0;34m\u001b[0m\u001b[0;34m\u001b[0m\u001b[0m\n\u001b[0;32m--> 158\u001b[0;31m         \u001b[0;32mreturn\u001b[0m \u001b[0mresults\u001b[0m\u001b[0;34m[\u001b[0m\u001b[0;36m0\u001b[0m\u001b[0;34m]\u001b[0m\u001b[0;34m\u001b[0m\u001b[0;34m\u001b[0m\u001b[0m\n\u001b[0m\u001b[1;32m    159\u001b[0m     \u001b[0;32melse\u001b[0m\u001b[0;34m:\u001b[0m\u001b[0;34m\u001b[0m\u001b[0;34m\u001b[0m\u001b[0m\n\u001b[1;32m    160\u001b[0m         \u001b[0;32mreturn\u001b[0m \u001b[0mresults\u001b[0m\u001b[0;34m\u001b[0m\u001b[0;34m\u001b[0m\u001b[0m\n",
      "\u001b[0;31mIndexError\u001b[0m: list index out of range"
     ]
    }
   ],
   "source": [
    "##문장 넣기\n",
    "setences = []\n",
    "text = \"\"\n",
    "text = input(\"하고싶은 말을 입력해주세요 : \")\n",
    "\n",
    "setences= split_sentences(text)\n",
    "\n",
    "print(setences, '\\n')\n",
    "\n",
    "emotion_list= []\n",
    "situation_list = []\n",
    "for i, sent in enumerate(setences) :\n",
    "  emotion_data = []\n",
    "  emotion_pre = predict_emotion(sent)\n",
    "  emotion_data.append(sent)\n",
    "  emotion_data.append(str(emotion_pre))\n",
    "  emotion_list.append(emotion_data)\n",
    "\n",
    "\n",
    "  situation_data = []\n",
    "  situation_pre = predict_situation(sent)\n",
    "  situation_data.append(sent)\n",
    "  situation_data.append(str(situation_pre))\n",
    "  situation_list.append(situation_data)\n",
    "\n"
   ]
  },
  {
   "cell_type": "code",
   "execution_count": 183,
   "id": "yNaCLoZG5w6S",
   "metadata": {
    "colab": {
     "base_uri": "https://localhost:8080/"
    },
    "executionInfo": {
     "elapsed": 543,
     "status": "ok",
     "timestamp": 1633443889534,
     "user": {
      "displayName": "잠온다",
      "photoUrl": "https://lh3.googleusercontent.com/a-/AOh14GgsldayAwnTpdne5aB_pssT2_VFbbBVM1GFqKqp0A=s64",
      "userId": "04211171566214141965"
     },
     "user_tz": -540
    },
    "id": "yNaCLoZG5w6S",
    "outputId": "56f9abe4-02e3-4e88-a3a1-48945410dd4b"
   },
   "outputs": [
    {
     "data": {
      "text/plain": [
       "[['진짜 임시저장한지 한 달 다되가믄데 오늘 아침 출근길 온도 보고 이건 더는 늦으면 안되겠어서 씀니다', '중립'],\n",
       " ['수연맘 예설맘 과 함께한 여름일기 지난 프리뷰 나 머리 짜르러 또 가야 하는데 머리 첨에 하면 넘 예뿐데 내가 똥손이라 결말은 항상 신돈 수백번의 시행착오를 겪고 난뒤의 간촐한 여행짐 우리의 이번 피크닉 장소는 강릉강릉 그래서 언제! 나는 따로 출발해서 먼더 도착해서 예슬수연이 기다렸다',\n",
       "  '기쁨'],\n",
       " ['우린 뚜벅초 들이라 모두 택시로 이동 숙소로 가는길이 전부 솔밭이라 산림욕과 해수욕이 쌉가능 이번 여행 다 좋았디만 숙소가 제일 좋았음 나 에어비앤비 예약 첨해봐짜냐.',\n",
       "  '중립'],\n",
       " ['송정바다 찢으러 왓다^^ 내가 수연이 한테 수영복 사진 들이라 나 감성비취 할려고 수건도 사짜냐 나 이번 강릉 바다에서 네시호 괴물 봣쟈냐 여기 수심 2M 인데 예슬이 키가 183이긴 하지만 그래도 대단한 깊이ㅠㅠ since 2004 ^^ 이뒤로 메이크업 할 생각이 없었기때메 안구보호차원 필터',\n",
       "  '중립']]"
      ]
     },
     "execution_count": 183,
     "metadata": {},
     "output_type": "execute_result"
    }
   ],
   "source": [
    "emotion_list"
   ]
  },
  {
   "cell_type": "code",
   "execution_count": 184,
   "id": "Mt5Z501IqnIa",
   "metadata": {
    "colab": {
     "base_uri": "https://localhost:8080/"
    },
    "executionInfo": {
     "elapsed": 8,
     "status": "ok",
     "timestamp": 1633443889535,
     "user": {
      "displayName": "잠온다",
      "photoUrl": "https://lh3.googleusercontent.com/a-/AOh14GgsldayAwnTpdne5aB_pssT2_VFbbBVM1GFqKqp0A=s64",
      "userId": "04211171566214141965"
     },
     "user_tz": -540
    },
    "id": "Mt5Z501IqnIa",
    "outputId": "de9a974f-e597-458a-bd0d-4d8412fabbeb"
   },
   "outputs": [
    {
     "data": {
      "text/plain": [
       "[['진짜 임시저장한지 한 달 다되가믄데 오늘 아침 출근길 온도 보고 이건 더는 늦으면 안되겠어서 씀니다', '건강, 죽음'],\n",
       " ['수연맘 예설맘 과 함께한 여름일기 지난 프리뷰 나 머리 짜르러 또 가야 하는데 머리 첨에 하면 넘 예뿐데 내가 똥손이라 결말은 항상 신돈 수백번의 시행착오를 겪고 난뒤의 간촐한 여행짐 우리의 이번 피크닉 장소는 강릉강릉 그래서 언제! 나는 따로 출발해서 먼더 도착해서 예슬수연이 기다렸다',\n",
       "  '대인관계'],\n",
       " ['우린 뚜벅초 들이라 모두 택시로 이동 숙소로 가는길이 전부 솔밭이라 산림욕과 해수욕이 쌉가능 이번 여행 다 좋았디만 숙소가 제일 좋았음 나 에어비앤비 예약 첨해봐짜냐.',\n",
       "  '대인관계'],\n",
       " ['송정바다 찢으러 왓다^^ 내가 수연이 한테 수영복 사진 들이라 나 감성비취 할려고 수건도 사짜냐 나 이번 강릉 바다에서 네시호 괴물 봣쟈냐 여기 수심 2M 인데 예슬이 키가 183이긴 하지만 그래도 대단한 깊이ㅠㅠ since 2004 ^^ 이뒤로 메이크업 할 생각이 없었기때메 안구보호차원 필터',\n",
       "  '건강, 죽음']]"
      ]
     },
     "execution_count": 184,
     "metadata": {},
     "output_type": "execute_result"
    }
   ],
   "source": [
    "situation_list"
   ]
  },
  {
   "cell_type": "code",
   "execution_count": 185,
   "id": "CVIUvwGo8tok",
   "metadata": {
    "executionInfo": {
     "elapsed": 3,
     "status": "ok",
     "timestamp": 1633443890451,
     "user": {
      "displayName": "잠온다",
      "photoUrl": "https://lh3.googleusercontent.com/a-/AOh14GgsldayAwnTpdne5aB_pssT2_VFbbBVM1GFqKqp0A=s64",
      "userId": "04211171566214141965"
     },
     "user_tz": -540
    },
    "id": "CVIUvwGo8tok"
   },
   "outputs": [],
   "source": [
    "cnt_total1=0\n",
    "cnt1=[0,0,0,0,0,0,0]\n",
    "\n",
    "for i in range(len(emotion_list)):\n",
    "    cnt_total1+=1\n",
    "    if emotion_list[i][1]=='분노':\n",
    "        cnt1[0]+=1\n",
    "    elif emotion_list[i][1]=='슬픔':\n",
    "        cnt1[1]+=1\n",
    "    elif emotion_list[i][1]=='불안':\n",
    "        cnt1[2]+=1\n",
    "    elif emotion_list[i][1]=='상처':\n",
    "        cnt1[3]+=1\n",
    "    elif emotion_list[i][1]=='당황':\n",
    "        cnt1[4]+=1\n",
    "    elif emotion_list[i][1]=='기쁨':\n",
    "        cnt1[5]+=1\n",
    "    elif emotion_list[i][1]=='중립':\n",
    "        cnt1[6]+=1\n",
    "    else:\n",
    "        print('error')\n",
    "    \n",
    "emo_per=round(max(cnt1)/cnt_total1,4)"
   ]
  },
  {
   "cell_type": "code",
   "execution_count": 186,
   "id": "iTdsppXAtKZm",
   "metadata": {
    "executionInfo": {
     "elapsed": 4,
     "status": "ok",
     "timestamp": 1633443890452,
     "user": {
      "displayName": "잠온다",
      "photoUrl": "https://lh3.googleusercontent.com/a-/AOh14GgsldayAwnTpdne5aB_pssT2_VFbbBVM1GFqKqp0A=s64",
      "userId": "04211171566214141965"
     },
     "user_tz": -540
    },
    "id": "iTdsppXAtKZm"
   },
   "outputs": [],
   "source": [
    "emotions_dict={0:'분노',1:'슬픔',2:'불안',3:'상처',4:'당황',5:'기쁨', 6:\"중립\"}\n",
    "\n",
    "situations_dict={0:'가족관계',\n",
    "1:'학업 및 진로',\n",
    "2:'학교폭력/따돌림',\n",
    "3:'대인관계',\n",
    "4:'직장, 업무 스트레스',\n",
    "5:'연애, 결혼, 출산',\n",
    "6:'진로, 취업, 직장',\n",
    "7:'재정, 은퇴, 노후준비',\n",
    "8:'건강, 죽음',\n",
    "}"
   ]
  },
  {
   "cell_type": "code",
   "execution_count": 187,
   "id": "Rd4fg7j93mAs",
   "metadata": {
    "executionInfo": {
     "elapsed": 3,
     "status": "ok",
     "timestamp": 1633443890452,
     "user": {
      "displayName": "잠온다",
      "photoUrl": "https://lh3.googleusercontent.com/a-/AOh14GgsldayAwnTpdne5aB_pssT2_VFbbBVM1GFqKqp0A=s64",
      "userId": "04211171566214141965"
     },
     "user_tz": -540
    },
    "id": "Rd4fg7j93mAs"
   },
   "outputs": [],
   "source": [
    "\n",
    "cnt_total2=0\n",
    "cnt2=[0,0,0,0,0,0,0,0,0]\n",
    "\n",
    "for j in range(len(situation_list)):\n",
    "    cnt_total2+=1\n",
    "    if situation_list[j][1]=='가족관계':\n",
    "        cnt2[0]+=1\n",
    "    elif situation_list[j][1]=='학업 및 진로':\n",
    "        cnt2[1]+=1\n",
    "    elif situation_list[j][1]=='학교폭력/따돌림':\n",
    "        cnt2[2]+=1\n",
    "    elif situation_list[j][1]=='대인관계':\n",
    "        cnt2[3]+=1\n",
    "    elif situation_list[j][1]=='직장, 업무 스트레스':\n",
    "        cnt2[4]+=1\n",
    "    elif situation_list[j][1]=='연애, 결혼, 출산':\n",
    "        cnt2[5]+=1\n",
    "    elif situation_list[j][1]=='진로, 취업, 직장':\n",
    "        cnt2[6]+=1\n",
    "    elif situation_list[j][1]=='재정, 은퇴, 노후준비':\n",
    "        cnt2[7]+=1\n",
    "    elif situation_list[j][1]=='건강, 죽음':\n",
    "        cnt2[8]+=1\n",
    "    else:\n",
    "        print('error')\n"
   ]
  },
  {
   "cell_type": "code",
   "execution_count": 188,
   "id": "cWNDu1sX3ncb",
   "metadata": {
    "executionInfo": {
     "elapsed": 517,
     "status": "ok",
     "timestamp": 1633443891699,
     "user": {
      "displayName": "잠온다",
      "photoUrl": "https://lh3.googleusercontent.com/a-/AOh14GgsldayAwnTpdne5aB_pssT2_VFbbBVM1GFqKqp0A=s64",
      "userId": "04211171566214141965"
     },
     "user_tz": -540
    },
    "id": "cWNDu1sX3ncb"
   },
   "outputs": [],
   "source": [
    "obj={\n",
    "    'emotion':{\"분노\":round(cnt1[0]/cnt_total1*100,4),\n",
    "            \"슬픔\":round(cnt1[1]/cnt_total1*100,4),\n",
    "            \"불안\":round(cnt1[2]/cnt_total1*100,4),\n",
    "            \"상처\":round(cnt1[3]/cnt_total1*100,4),\n",
    "            \"당황\":round(cnt1[4]/cnt_total1*100,4),\n",
    "            \"기쁨\":round(cnt1[5]/cnt_total1*100,4),\n",
    "            \"중립\":round(cnt1[6]/cnt_total1*100,4)},\n",
    "  \n",
    "'sentence':{\"분노\":[],\n",
    "            \"슬픔\":[],\n",
    "            \"불안\":[],\n",
    "            \"상처\":[],\n",
    "            \"당황\":[],\n",
    "            \"기쁨\":[],\n",
    "            \"중립\":[]},\n",
    "'situation':{emotions_dict[cnt1.index(max(cnt1))]:situations_dict[cnt2.index(max(cnt2))]}\n",
    "}\n"
   ]
  },
  {
   "cell_type": "code",
   "execution_count": 189,
   "id": "3sI9514C3pXp",
   "metadata": {
    "executionInfo": {
     "elapsed": 2,
     "status": "ok",
     "timestamp": 1633443892182,
     "user": {
      "displayName": "잠온다",
      "photoUrl": "https://lh3.googleusercontent.com/a-/AOh14GgsldayAwnTpdne5aB_pssT2_VFbbBVM1GFqKqp0A=s64",
      "userId": "04211171566214141965"
     },
     "user_tz": -540
    },
    "id": "3sI9514C3pXp"
   },
   "outputs": [],
   "source": [
    "\n",
    "\n",
    "for i in range(len(emotion_list)):\n",
    "    cnt_total1+=1\n",
    "    if emotion_list[i][1]=='분노':\n",
    "        obj['sentence']['분노']=emotion_list[i][0]\n",
    "    elif emotion_list[i][1]=='슬픔':\n",
    "        obj['sentence']['슬픔'].append(emotion_list[i][0])\n",
    "    elif emotion_list[i][1]=='불안':\n",
    "        obj['sentence']['불안'].append(emotion_list[i][0])\n",
    "    elif emotion_list[i][1]=='상처':\n",
    "        obj['sentence']['상처'].append(emotion_list[i][0])\n",
    "    elif emotion_list[i][1]=='당황':\n",
    "        obj['sentence']['당황'].append(emotion_list[i][0])\n",
    "    elif emotion_list[i][1]=='기쁨':\n",
    "        obj['sentence']['기쁨'].append(emotion_list[i][0])\n",
    "    elif emotion_list[i][1]=='중립':\n",
    "        obj['sentence']['중립'].append(emotion_list[i][0])\n",
    "    else:\n",
    "        print('error')\n",
    "    \n",
    "emo_per=round(max(cnt1)/cnt_total1,4)"
   ]
  },
  {
   "cell_type": "code",
   "execution_count": 190,
   "id": "XmS0Y3XB3sCK",
   "metadata": {
    "colab": {
     "base_uri": "https://localhost:8080/"
    },
    "executionInfo": {
     "elapsed": 5,
     "status": "ok",
     "timestamp": 1633443892695,
     "user": {
      "displayName": "잠온다",
      "photoUrl": "https://lh3.googleusercontent.com/a-/AOh14GgsldayAwnTpdne5aB_pssT2_VFbbBVM1GFqKqp0A=s64",
      "userId": "04211171566214141965"
     },
     "user_tz": -540
    },
    "id": "XmS0Y3XB3sCK",
    "outputId": "0b4486ba-1326-47ba-814e-51520da371ff"
   },
   "outputs": [
    {
     "data": {
      "text/plain": [
       "{'emotion': {'기쁨': 25.0,\n",
       "  '당황': 0.0,\n",
       "  '분노': 0.0,\n",
       "  '불안': 0.0,\n",
       "  '상처': 0.0,\n",
       "  '슬픔': 0.0,\n",
       "  '중립': 75.0},\n",
       " 'sentence': {'기쁨': ['수연맘 예설맘 과 함께한 여름일기 지난 프리뷰 나 머리 짜르러 또 가야 하는데 머리 첨에 하면 넘 예뿐데 내가 똥손이라 결말은 항상 신돈 수백번의 시행착오를 겪고 난뒤의 간촐한 여행짐 우리의 이번 피크닉 장소는 강릉강릉 그래서 언제! 나는 따로 출발해서 먼더 도착해서 예슬수연이 기다렸다'],\n",
       "  '당황': [],\n",
       "  '분노': [],\n",
       "  '불안': [],\n",
       "  '상처': [],\n",
       "  '슬픔': [],\n",
       "  '중립': ['진짜 임시저장한지 한 달 다되가믄데 오늘 아침 출근길 온도 보고 이건 더는 늦으면 안되겠어서 씀니다',\n",
       "   '우린 뚜벅초 들이라 모두 택시로 이동 숙소로 가는길이 전부 솔밭이라 산림욕과 해수욕이 쌉가능 이번 여행 다 좋았디만 숙소가 제일 좋았음 나 에어비앤비 예약 첨해봐짜냐.',\n",
       "   '송정바다 찢으러 왓다^^ 내가 수연이 한테 수영복 사진 들이라 나 감성비취 할려고 수건도 사짜냐 나 이번 강릉 바다에서 네시호 괴물 봣쟈냐 여기 수심 2M 인데 예슬이 키가 183이긴 하지만 그래도 대단한 깊이ㅠㅠ since 2004 ^^ 이뒤로 메이크업 할 생각이 없었기때메 안구보호차원 필터']},\n",
       " 'situation': {'중립': '대인관계'}}"
      ]
     },
     "execution_count": 190,
     "metadata": {},
     "output_type": "execute_result"
    }
   ],
   "source": [
    "obj"
   ]
  },
  {
   "cell_type": "code",
   "execution_count": 118,
   "id": "mSME0JPF3tIF",
   "metadata": {
    "executionInfo": {
     "elapsed": 3,
     "status": "ok",
     "timestamp": 1633442859688,
     "user": {
      "displayName": "잠온다",
      "photoUrl": "https://lh3.googleusercontent.com/a-/AOh14GgsldayAwnTpdne5aB_pssT2_VFbbBVM1GFqKqp0A=s64",
      "userId": "04211171566214141965"
     },
     "user_tz": -540
    },
    "id": "mSME0JPF3tIF"
   },
   "outputs": [],
   "source": [
    "with open(\"output to json\", \"w\") as new_file:\n",
    "\tjson.dump(obj, new_file,indent=4, sort_keys=True)"
   ]
  },
  {
   "cell_type": "code",
   "execution_count": null,
   "id": "EFJg5Hw_yAYp",
   "metadata": {
    "id": "EFJg5Hw_yAYp"
   },
   "outputs": [],
   "source": []
  }
 ],
 "metadata": {
  "accelerator": "GPU",
  "colab": {
   "collapsed_sections": [],
   "name": "model 확인.ipynb",
   "provenance": [
    {
     "file_id": "1di6sv-z3gTSeAvDn6cALZSwFEZwRCVkt",
     "timestamp": 1633422198531
    },
    {
     "file_id": "1bmxMINdTScAPC_N-YaBJZmuCJBMdoCCh",
     "timestamp": 1633334952741
    }
   ]
  },
  "kernelspec": {
   "display_name": "Python 3",
   "language": "python",
   "name": "python3"
  },
  "language_info": {
   "codemirror_mode": {
    "name": "ipython",
    "version": 3
   },
   "file_extension": ".py",
   "mimetype": "text/x-python",
   "name": "python",
   "nbconvert_exporter": "python",
   "pygments_lexer": "ipython3",
   "version": "3.8.8"
  }
 },
 "nbformat": 4,
 "nbformat_minor": 5
}
